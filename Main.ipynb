{
 "cells": [
  {
   "cell_type": "code",
   "execution_count": 1,
   "metadata": {},
   "outputs": [
    {
     "data": {
      "text/plain": [
       "'\\nAuthor: Tim M. Kostersitz\\nDate: March 25th, 2021\\nDescription:\\nThis program was initially designed for a B Phys 450 final project, but has been in continuous developement since then.\\nIt is intended to allow for the incoorperation of aerodynamical properties of the rocket and\\naccurate simulation of its trajectory and flight characteristics\\n'"
      ]
     },
     "execution_count": 1,
     "metadata": {},
     "output_type": "execute_result"
    }
   ],
   "source": [
    "\"\"\"\n",
    "Author: Tim M. Kostersitz\n",
    "Date: March 25th, 2021\n",
    "Description:\n",
    "This program was initially designed for a B Phys 450 final project, but has been in continuous developement since then.\n",
    "It is intended to allow for the incoorperation of aerodynamical properties of the rocket and\n",
    "accurate simulation of its trajectory and flight characteristics\n",
    "\"\"\""
   ]
  },
  {
   "cell_type": "code",
   "execution_count": 12,
   "metadata": {},
   "outputs": [],
   "source": [
    "import numpy as np\n",
    "import matplotlib.pyplot as plt\n",
    "import scipy.integrate as sp\n",
    "\n",
    "# from numpy import linspace, array, zeros, arange, log\n",
    "# from matplotlib.pyplot import plot, xlabel, ylabel, legend, show, figure, subplot, title, tight_layout, stem, savefig"
   ]
  },
  {
   "cell_type": "code",
   "execution_count": 3,
   "metadata": {},
   "outputs": [],
   "source": [
    "def mass(t, j):\n",
    "    # Returs mass given the time, if j is 0 then the stagess will not be\n",
    "    # dropped. If j is 1 the stages will be dropped\n",
    "    # If statements account for stage seperations\n",
    "    \n",
    "    # Ejection option\n",
    "    if j == 1:\n",
    "        st1_ejectionMass = st1_eMass\n",
    "        st2_ejectionMass = st2_eMass\n",
    "        st3_ejectionMass = st3_eMass\n",
    "    else:\n",
    "        st1_ejectionMass = 0\n",
    "        st2_ejectionMass = 0\n",
    "        st3_ejectionMass = 0\n",
    "    global i\n",
    "    \n",
    "    # mass calculation\n",
    "    if t > 0 and t <= seperationTime1:\n",
    "        return initMass - st1_burnRate*t\n",
    "    elif t > seperationTime1 and  t <= seperationTime2:\n",
    "        return initMass - (st1_fuel + st1_ejectionMass + st2_burnRate*(t-st1_burnT))\n",
    "    elif t > seperationTime2 and t <= totalBurnT:\n",
    "        return initMass - (st1_fuel + st1_ejectionMass + st2_fuel + st2_ejectionMass + st3_burnRate*(t - (st1_burnT + st2_burnT)))\n",
    "    elif t <= 0:\n",
    "        return initMass\n",
    "    elif t > totalBurnT:\n",
    "        return payload + st1_ejectionMass + st2_ejectionMass + st3_ejectionMass"
   ]
  },
  {
   "cell_type": "code",
   "execution_count": 4,
   "metadata": {},
   "outputs": [],
   "source": [
    "def temperature(y):\n",
    "    # This takes into account the changes in terpature of the different layers\n",
    "    # of the atmosphere\n",
    "    # source: http://spiff.rit.edu/classes/phys317/lectures/multiple_funcs/temp_profile.html#:~:text=Now,%20the%20density%20of%20the%20atmosphere%20is%20a,of%20100%20km.%20It%20might%20look%20like%20this:\n",
    "    # and http://walter.bislins.ch/bloge/index.asp?page=Barometric+Formula\n",
    "    \n",
    "    # Layer values (Referece temps in K)\n",
    "    l0 = 11000\n",
    "    alpha0 = -0.0065\n",
    "    Tref0 = 288.15\n",
    "    \n",
    "    l1 = 20000\n",
    "    alpha1 = 0\n",
    "    Tref1 = 216.65\n",
    "    \n",
    "    l2 = 32000\n",
    "    alpha2 = 0.001\n",
    "    Tref2 = 216.65\n",
    "    \n",
    "    l3 = 47000\n",
    "    alpha3 = 0.0028\n",
    "    Tref3 = 228.65\n",
    "    \n",
    "    l4 = 51000\n",
    "    alpha4 = 0\n",
    "    Tref4 = 270.65\n",
    "    \n",
    "    l5 = 71000\n",
    "    alpha5 = -0.0028\n",
    "    Tref5 = 270.65\n",
    "    \n",
    "    l6 = 84852\n",
    "    alpha6 = -0.0020\n",
    "    Tref6 = 214.65 \n",
    "    \n",
    "    Tref7 = 186.87\n",
    "    \n",
    "    # No air\n",
    "    Tref8 = 2.7 # temperature in space as a result of the background radiation\n",
    "    \n",
    "    if y >= 0 and y <l0:\n",
    "        return Tref0 + alpha0*(y - 0)\n",
    "    elif y >= l0 and y <l1:\n",
    "        return Tref1 + alpha1*(y - l0)\n",
    "    elif y >= l1 and y <l2:\n",
    "        return Tref2 + alpha2*(y - l1)\n",
    "    elif y >= l2 and y <l3:\n",
    "        return Tref3 + alpha3*(y - l2)\n",
    "    elif y >= l3 and y <l4:\n",
    "        return Tref4 + alpha4*(y - l4)\n",
    "    elif y >= l4 and y <l5:\n",
    "        return Tref5 + alpha5*(y - l5)\n",
    "    elif y >= l5 and y <l6:\n",
    "        return Tref6 + alpha6*(y - l6)\n",
    "    elif y >= l6:\n",
    "        return Tref7\n",
    "    "
   ]
  },
  {
   "cell_type": "code",
   "execution_count": 5,
   "metadata": {},
   "outputs": [],
   "source": [
    "def airDensity(y):\n",
    "    # Returns air density at a given hight assuming air is an ideal gas\n",
    "    # source: https://physics.stackexchange.com/questions/299907/air-density-as-a-function-of-altitude-only\n",
    "    # and https://www.translatorscafe.com/unit-converter/en-US/calculator/altitude/?a=35000&au=ft&to=10&tu=C#international-standard-atmosphere-ISA\n",
    "    T0 = 288.16     # K\n",
    "    rho0 = 1.12  # Kg/m^3 at sea level\n",
    "    Rsp = 287.05287 # J/K*Kg for dry air\n",
    "    g0 = 9.80665 # m/s^2\n",
    "    M = 0.0289644 # kg/mol\n",
    "    R = 8.31432e3 # N m kmol⁻¹ K⁻¹\n",
    "    \n",
    "    \n",
    "    # Layer stuff\n",
    "    # Pb is the base static pressure of the layer b in Pa\n",
    "    # Tb is the base temperature of the layer b in K\n",
    "    # Lb is the base temperature lapse rate of the layer b in K/m\n",
    "    # Hb is the base geopotential height of the layer b in m\n",
    "    \n",
    "    l0 = 11000\n",
    "    Pb0 = 101325\n",
    "    Tb0 = 288.15\n",
    "    Lb0 = -6.5\n",
    "    Hb0 = 0\n",
    "    \n",
    "    l1 = 20000\n",
    "    Pb1 = 22632.06\n",
    "    Tb1 = 216.65\n",
    "    Lb1 = 0\n",
    "    Hb1 = 11\n",
    "\n",
    "    l2 = 32000\n",
    "    Pb2 = 5474.889\t\n",
    "    Tb2 = 216.65\n",
    "    Lb2 = 1\n",
    "    Hb2 = 20\n",
    "    \n",
    "    l3 = 47000\n",
    "    Pb3 = 868.0187\n",
    "    Tb3 = 228.65\n",
    "    Lb3 = 2.8\n",
    "    Hb3 = 32\n",
    "    \n",
    "    l4 = 51000\n",
    "    Pb4 = 110.9063\n",
    "    Tb4 = 270.65\n",
    "    Lb4 = 0\n",
    "    Hb4 = 47\n",
    "\n",
    "    l5 = 71000\n",
    "    Pb5 = 66.93887\n",
    "    Tb5 = 270.65\n",
    "    Lb5 = -2.8\n",
    "    Hb5 = 51\n",
    "    \n",
    "    l6 = 84852\n",
    "    Pb6 = 3.956420\n",
    "    Tb6 = 214.65\n",
    "    Lb6 = 71\n",
    "    Hb6 = -2\n",
    "\n",
    "    Pb7 = 0\n",
    "    Tb7 = 186.87\n",
    "    Hb7 = 84.852\n",
    "    \n",
    "    \n",
    "    if y >= 0 and y <l0:\n",
    "        Pb = Pb0\n",
    "        Tb = Tb0\n",
    "        Lb = Lb0\n",
    "    elif y >= l0 and y <l1:\n",
    "        Pb = Pb1\n",
    "        Tb = Tb1\n",
    "        Lb = Lb1\n",
    "    elif y >= l1 and y <l2:\n",
    "        Pb = Pb2\n",
    "        Tb = Tb2\n",
    "        Lb = Lb2\n",
    "    elif y >= l2 and y <l3:\n",
    "        Pb = Pb3\n",
    "        Tb = Tb3\n",
    "        Lb = Lb3\n",
    "    elif y >= l3 and y <l4:\n",
    "        Pb = Pb4\n",
    "        Tb = Tb4\n",
    "        Lb = Lb4\n",
    "    elif y >= l4 and y <l5:\n",
    "        Pb = Pb5\n",
    "        Tb = Tb5\n",
    "        Lb = Lb5\n",
    "    elif y >= l5 and y <l6:\n",
    "        Pb = Pb6\n",
    "        Tb = Tb6\n",
    "        Lb = Lb6\n",
    "    elif y >= l6:\n",
    "        Pb = Pb7\n",
    "        Tb = Tb7\n",
    "        Lb = 1\n",
    "    \n",
    "    P = Pb*(Tb/temperature(y))**(g0*M/R*Lb)\n",
    "    return P/(Rsp*temperature(y))\n",
    "    \n",
    "   "
   ]
  },
  {
   "cell_type": "code",
   "execution_count": 6,
   "metadata": {},
   "outputs": [],
   "source": [
    "def airResistanceForce(y, v):\n",
    "    # assuming very good aerodynamics\n",
    "    # http://hyperphysics.phy-astr.gsu.edu/hbase/Mechanics/quadvfall.html\n",
    "    \n",
    "    A = 10   # m^2\n",
    "    rho = airDensity(y)\n",
    "    C = 0.5\n",
    "    return 0.5*C*rho*A*v**2"
   ]
  },
  {
   "cell_type": "code",
   "execution_count": 7,
   "metadata": {},
   "outputs": [],
   "source": [
    "def vExhaust(t):\n",
    "    # returns thrust in newtons at time 't'\n",
    "    # If statements account for stage seperations\n",
    "    seperationTime1 = st1_burnT\n",
    "    seperationTime2 = st1_burnT + st2_burnT\n",
    "    \n",
    "    if t > 0  and t <= seperationTime1:\n",
    "        return st1_thrust*9.80665/st1_burnRate\n",
    "    elif t > seperationTime1 and t <= seperationTime2:\n",
    "        return st2_thrust*9.80665/st2_burnRate\n",
    "    elif t > seperationTime2:\n",
    "        return st3_thrust*9.80665/st3_burnRate\n",
    "    else:\n",
    "        return 0"
   ]
  },
  {
   "cell_type": "code",
   "execution_count": 8,
   "metadata": {},
   "outputs": [],
   "source": [
    "def forces(t, y, v):\n",
    "    # Returns net force in the y direction. Positive is up, negative is down\n",
    "    fGravity = G*mEarth*mass(t, j)/((rEarth+y)**2)\n",
    "    fAir = airResistanceForce(y, v)\n",
    "    \n",
    "    if t > 0  and t <= seperationTime1:\n",
    "        fThrust = st1_thrust*9.80665\n",
    "    elif t > seperationTime1 and t <= seperationTime2:\n",
    "        fThrust = st2_thrust*9.80665\n",
    "    elif t > seperationTime2:\n",
    "        fThrust = st3_thrust*9.80665\n",
    "    else:\n",
    "        fThrust = 0\n",
    "        \n",
    "    return fThrust - (fGravity + fAir)"
   ]
  },
  {
   "cell_type": "code",
   "execution_count": 14,
   "metadata": {},
   "outputs": [],
   "source": [
    "def velocity(t, y):\n",
    "    # Returns the analytic velocity of the rocket\n",
    "    # source: https://www.compadre.org/osp/document/ServeFile.cfm?ID=11294&DocID=2309&Attachment=1\n",
    "    # Exhaust velocity given by the Tsiolkovsky rocket equation\n",
    "    vex = vExhaust(t)\n",
    "    return vex*np.log(initMass/mass(t,j))"
   ]
  },
  {
   "cell_type": "code",
   "execution_count": 15,
   "metadata": {},
   "outputs": [],
   "source": [
    "# General Variables\n",
    "mEarth = 6e24\n",
    "rEarth = 6371e3\n",
    "G = 6.674e-11\n",
    "\n",
    "# Rocket Specs \n",
    "payload = 1e6\n",
    "## stage 1\n",
    "st1_thrust = 35e6 \n",
    "st1_fuel = 2200e3\n",
    "st1_eMass = 130e3\n",
    "st1_burnT = 165\n",
    "\n",
    "## stage 2\n",
    "st2_thrust = 4.4e6 \n",
    "st2_fuel = 4.6e6\n",
    "st2_eMass = 40e3\n",
    "st2_burnT = 360\n",
    "\n",
    "## stage 3\n",
    "st3_thrust = 1e6 \n",
    "st3_fuel = 80e3\n",
    "st3_eMass = 80e3\n",
    "st3_burnT = 165\n",
    "\n",
    "# Burn rate of fuel in Kg/s for each of the stages\n",
    "st1_burnRate = st1_fuel/st1_burnT\n",
    "st2_burnRate = st2_fuel/st2_burnT\n",
    "st3_burnRate = st3_fuel/st3_burnT\n",
    "\n",
    "seperationTime1 = st1_burnT\n",
    "seperationTime2 = st1_burnT + st2_burnT\n",
    "totalBurnT = st1_burnT + st2_burnT + st3_burnT\n",
    "\n",
    "# Initial masses of the stages\n",
    "st1_initMass = st1_fuel + st1_eMass\n",
    "st2_initMass = st2_fuel + st2_eMass\n",
    "st3_initMass = st3_fuel + st3_eMass\n",
    "\n",
    "# Intial total mass of the rocket\n",
    "initMass = payload + st1_initMass + st2_initMass +st3_initMass\n",
    "\n",
    "#### TESTING ###\n",
    "tmax = (15*60) # Conversion to sec\n",
    "tmin = 0\n",
    "t = np.arange(tmin, tmax)\n",
    "\n",
    "# Testing the mass function with stage ejection\n",
    "j = 1\n",
    "massData = np.zeros(t.shape)\n",
    "counter = 0\n",
    "for timeStep in t:\n",
    "    massData[counter] = mass(timeStep, j)\n",
    "    counter += 1"
   ]
  },
  {
   "cell_type": "code",
   "execution_count": 16,
   "metadata": {},
   "outputs": [],
   "source": [
    "# Testing the mass function without stage ejection\n",
    "j = 0\n",
    "massDataNoJ = np.zeros(t.shape)\n",
    "counter = 0\n",
    "for timeStep in t:\n",
    "    massDataNoJ[counter] = mass(timeStep, j)\n",
    "    counter += 1\n",
    "\n",
    "# Testing exhaust velocity function\n",
    "exVelocityData = np.zeros(t.shape)\n",
    "counter = 0\n",
    "for timeStep in t:  \n",
    "    exVelocityData[counter] = vExhaust(timeStep)\n",
    "    counter += 1\n",
    "\n",
    "# Testing temperature function\n",
    "height = np.arange(0, 100000)\n",
    "airTempData = np.zeros(height.shape)\n",
    "counter = 0\n",
    "for altitude in height:  \n",
    "    airTempData[counter] = temperature(altitude)-273.15\n",
    "    counter += 1\n",
    "    \n",
    "# Testing air density function\n",
    "height = np.arange(0, 100000)\n",
    "airDensData = np.zeros(height.shape)\n",
    "counter = 0\n",
    "for altitude in height:  \n",
    "    airDensData[counter] = airDensity(altitude)\n",
    "    counter += 1\n",
    "\n",
    "### MODELING ###\n",
    "\n",
    "y = 0\n",
    "X = sp.odeint(velocity, y, t, tfirst=True) \n",
    "h = X[:,0]\n",
    "\n",
    "# air resistance and velocity\n",
    "velocityData = np.zeros(h.shape)\n",
    "airRes = np.zeros(h.shape)\n",
    "counter = 0\n",
    "vp = 0\n",
    "for altitude in h:\n",
    "    velocityData[counter] = velocity(counter, vp)\n",
    "    vp = velocityData[counter]\n",
    "    airRes[counter] = airResistanceForce(altitude, velocityData[counter])\n",
    "    counter += 1\n",
    "\n",
    "# Force on the rocket\n",
    "force = np.zeros(t.shape)\n",
    "counter = 0\n",
    "for timeStep in t:  \n",
    "    force[counter] = forces(timeStep, h[timeStep], velocityData[counter])\n",
    "    counter += 1"
   ]
  },
  {
   "cell_type": "code",
   "execution_count": 17,
   "metadata": {},
   "outputs": [
    {
     "data": {
      "image/png": "[encoded data removed]",
      "text/plain": [
       "<Figure size 432x288 with 2 Axes>"
      ]
     },
     "metadata": {
      "needs_background": "light"
     },
     "output_type": "display_data"
    },
    {
     "data": {
      "image/png": "[encoded data removed]",
      "text/plain": [
       "<Figure size 432x288 with 1 Axes>"
      ]
     },
     "metadata": {
      "needs_background": "light"
     },
     "output_type": "display_data"
    },
    {
     "data": {
      "image/png": "[encoded data removed]",
      "text/plain": [
       "<Figure size 432x288 with 1 Axes>"
      ]
     },
     "metadata": {
      "needs_background": "light"
     },
     "output_type": "display_data"
    },
    {
     "data": {
      "image/png": "[encoded data removed]",
      "text/plain": [
       "<Figure size 432x288 with 1 Axes>"
      ]
     },
     "metadata": {
      "needs_background": "light"
     },
     "output_type": "display_data"
    },
    {
     "data": {
      "image/png": "[encoded data removed]",
      "text/plain": [
       "<Figure size 432x288 with 1 Axes>"
      ]
     },
     "metadata": {
      "needs_background": "light"
     },
     "output_type": "display_data"
    }
   ],
   "source": [
    "### Ploting Stuffs ###\n",
    "saveFigs = 0 # 1 if all figures should be saved to .png files or 0 if not\n",
    "\n",
    "# Rocket Properies\n",
    "plt.figure(1)\n",
    "plt.subplot(2,2,1)\n",
    "plt.plot(t, massData)\n",
    "plt.title('Mass over Time')\n",
    "plt.subplot(2,2,2)\n",
    "plt.plot(t, massDataNoJ)\n",
    "plt.title('Mass over Time (no jettisoning)')\n",
    "if saveFigs:\n",
    "    plt.savefig('MassOverTime.png', dpi=300)\n",
    "\n",
    "plt.figure(2)\n",
    "plt.plot(t, exVelocityData)\n",
    "plt.title('Exhaust velocity over Time')\n",
    "plt.xlabel('Time (s)')\n",
    "plt.ylabel('Velocity (m/s)')\n",
    "if saveFigs:\n",
    "    plt.savefig('exVelocityOverTime.png', dpi=300)\n",
    "\n",
    "plt.figure(3)\n",
    "plt.plot(t, X[:,0])\n",
    "plt.title('Altitude of rocket')\n",
    "plt.xlabel('Time (s)')\n",
    "if saveFigs:\n",
    "    plt.savefig('AltitudeOverTime.png', dpi=300)\n",
    "\n",
    "plt.figure(4)\n",
    "plt.plot(t, force)\n",
    "plt.title('Force on the rocket vs time')\n",
    "plt.xlabel('Time (s)')\n",
    "plt.ylabel('Force (N)')\n",
    "if saveFigs:\n",
    "    plt.savefig('ForceOverTime.png', dpi=300)\n",
    "\n",
    "plt.figure(5)\n",
    "plt.plot(t, velocityData)\n",
    "plt.title('Rocket velocity over Time')\n",
    "plt.xlabel('Time (s)')\n",
    "plt.ylabel('Velocity (m/s)')\n",
    "if saveFigs:\n",
    "    plt.savefig('rocketVelocityOverTime.png', dpi=300)"
   ]
  },
  {
   "cell_type": "code",
   "execution_count": null,
   "metadata": {},
   "outputs": [
    {
     "ename": "NameError",
     "evalue": "name 'h' is not defined",
     "output_type": "error",
     "traceback": [
      "\u001b[0;31m---------------------------------------------------------------------------\u001b[0m",
      "\u001b[0;31mNameError\u001b[0m                                 Traceback (most recent call last)",
      "\u001b[1;32m/Users/tim/Documents/Numerical-Rocket-Simulation/Main.ipynb Cell 13'\u001b[0m in \u001b[0;36m<module>\u001b[0;34m\u001b[0m\n\u001b[1;32m      <a href='vscode-notebook-cell:/Users/tim/Documents/Numerical-Rocket-Simulation/Main.ipynb#ch0000012?line=7'>8</a>\u001b[0m     plt\u001b[39m.\u001b[39msavefig(\u001b[39m'\u001b[39m\u001b[39mtempOverHeigt.png\u001b[39m\u001b[39m'\u001b[39m, dpi\u001b[39m=\u001b[39m\u001b[39m300\u001b[39m)\n\u001b[1;32m     <a href='vscode-notebook-cell:/Users/tim/Documents/Numerical-Rocket-Simulation/Main.ipynb#ch0000012?line=9'>10</a>\u001b[0m plt\u001b[39m.\u001b[39mfigure(\u001b[39m7\u001b[39m)\n\u001b[0;32m---> <a href='vscode-notebook-cell:/Users/tim/Documents/Numerical-Rocket-Simulation/Main.ipynb#ch0000012?line=10'>11</a>\u001b[0m plt\u001b[39m.\u001b[39mplot(h[\u001b[39m0\u001b[39m:\u001b[39m65\u001b[39m], airRes[\u001b[39m0\u001b[39m:\u001b[39m65\u001b[39m])\n\u001b[1;32m     <a href='vscode-notebook-cell:/Users/tim/Documents/Numerical-Rocket-Simulation/Main.ipynb#ch0000012?line=11'>12</a>\u001b[0m plt\u001b[39m.\u001b[39mtitle(\u001b[39m'\u001b[39m\u001b[39mAir resistance as a function of height\u001b[39m\u001b[39m'\u001b[39m)\n\u001b[1;32m     <a href='vscode-notebook-cell:/Users/tim/Documents/Numerical-Rocket-Simulation/Main.ipynb#ch0000012?line=12'>13</a>\u001b[0m plt\u001b[39m.\u001b[39mxlabel(\u001b[39m'\u001b[39m\u001b[39mHeight (m)\u001b[39m\u001b[39m'\u001b[39m)\n",
      "\u001b[0;31mNameError\u001b[0m: name 'h' is not defined"
     ]
    },
    {
     "data": {
      "image/png": "[encoded data removed]",
      "text/plain": [
       "<Figure size 432x288 with 1 Axes>"
      ]
     },
     "metadata": {
      "needs_background": "light"
     },
     "output_type": "display_data"
    },
    {
     "data": {
      "text/plain": [
       "<Figure size 432x288 with 0 Axes>"
      ]
     },
     "metadata": {},
     "output_type": "display_data"
    }
   ],
   "source": [
    "# Atmospheric properties\n",
    "plt.figure(6)\n",
    "plt.plot(height, airTempData)\n",
    "plt.title('Temperature over Height')\n",
    "plt.xlabel('Height (m)')\n",
    "plt.ylabel('Temperature (degrees C)')\n",
    "if saveFigs:\n",
    "    plt.savefig('tempOverHeigt.png', dpi=300)\n",
    "\n",
    "plt.figure(7)\n",
    "plt.plot(h[0:65], airRes[0:65])\n",
    "plt.title('Air resistance as a function of height')\n",
    "plt.xlabel('Height (m)')\n",
    "plt.ylabel('Force of the air (N)')\n",
    "if saveFigs:\n",
    "    plt.savefig('airResistance.png', dpi=300)\n",
    "\n",
    "plt.figure(8)\n",
    "plt.plot(h[0:65], airRes[0:65])\n",
    "plt.title('Air density as a function of height')\n",
    "plt.xlabel('Height (m)')\n",
    "plt.ylabel('Density (kg/m³)')\n",
    "if saveFigs:\n",
    "    plt.savefig('airDensity.png', dpi=300)"
   ]
  },
  {
   "cell_type": "code",
   "execution_count": null,
   "metadata": {},
   "outputs": [],
   "source": []
  }
 ],
 "metadata": {
  "kernelspec": {
   "display_name": "Python 3",
   "language": "python",
   "name": "python3"
  },
  "language_info": {
   "codemirror_mode": {
    "name": "ipython",
    "version": 3
   },
   "file_extension": ".py",
   "mimetype": "text/x-python",
   "name": "python",
   "nbconvert_exporter": "python",
   "pygments_lexer": "ipython3",
   "version": "3.9.5"
  }
 },
 "nbformat": 4,
 "nbformat_minor": 4
}
